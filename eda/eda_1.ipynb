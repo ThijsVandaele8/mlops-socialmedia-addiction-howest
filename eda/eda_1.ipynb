{
 "cells": [
  {
   "cell_type": "code",
   "execution_count": 1,
   "id": "c941a04d",
   "metadata": {},
   "outputs": [
    {
     "name": "stderr",
     "output_type": "stream",
     "text": [
      "c:\\Users\\thijs\\Desktop\\Eindwerk_Howest_MLOps\\.venv\\Lib\\site-packages\\tqdm\\auto.py:21: TqdmWarning: IProgress not found. Please update jupyter and ipywidgets. See https://ipywidgets.readthedocs.io/en/stable/user_install.html\n",
      "  from .autonotebook import tqdm as notebook_tqdm\n"
     ]
    },
    {
     "data": {
      "text/html": [
       "\n",
       "            <div>\n",
       "                <ins><a href=\"https://ydata.ai/register\">Upgrade to ydata-sdk</a></ins>\n",
       "                <p>\n",
       "                    Improve your data and profiling with ydata-sdk, featuring data quality scoring, redundancy detection, outlier identification, text validation, and synthetic data generation.\n",
       "                </p>\n",
       "            </div>\n",
       "            "
      ],
      "text/plain": [
       "<IPython.core.display.HTML object>"
      ]
     },
     "metadata": {},
     "output_type": "display_data"
    }
   ],
   "source": [
    "import pandas as pd\n",
    "import os\n",
    "from ydata_profiling import ProfileReport\n",
    "\n",
    "data_path = r\"..\\data\\dataset_v1\\Students Social Media Addiction.csv\""
   ]
  },
  {
   "cell_type": "code",
   "execution_count": 2,
   "id": "39a6d37a",
   "metadata": {},
   "outputs": [],
   "source": [
    "df = pd.read_csv(data_path, na_values='?')"
   ]
  },
  {
   "cell_type": "code",
   "execution_count": 5,
   "id": "ed7d72a4",
   "metadata": {},
   "outputs": [
    {
     "name": "stderr",
     "output_type": "stream",
     "text": [
      "100%|██████████| 13/13 [00:00<00:00, 542.91it/s]00:00, 15.61it/s, Describe variable: Addicted_Score]             \n",
      "Summarize dataset: 100%|██████████| 71/71 [00:05<00:00, 13.13it/s, Completed]                                                       \n",
      "Generate report structure: 100%|██████████| 1/1 [00:02<00:00,  2.45s/it]\n",
      "Render HTML: 100%|██████████| 1/1 [00:02<00:00,  2.01s/it]\n",
      "c:\\Users\\thijs\\Desktop\\Eindwerk_Howest_MLOps\\.venv\\Lib\\site-packages\\ydata_profiling\\profile_report.py:386: UserWarning: Extension  not supported. For now we assume .html was intended. To remove this warning, please use .html or .json.\n",
      "  warnings.warn(\n",
      "Export report to file: 100%|██████████| 1/1 [00:00<00:00, 41.45it/s]\n"
     ]
    }
   ],
   "source": [
    "profile = ProfileReport(df, title=\"Students Social Media Addiction (1)\")\n",
    "profile.to_file(\"students_social_media_addication_eda_1\")"
   ]
  }
 ],
 "metadata": {
  "kernelspec": {
   "display_name": ".venv",
   "language": "python",
   "name": "python3"
  },
  "language_info": {
   "codemirror_mode": {
    "name": "ipython",
    "version": 3
   },
   "file_extension": ".py",
   "mimetype": "text/x-python",
   "name": "python",
   "nbconvert_exporter": "python",
   "pygments_lexer": "ipython3",
   "version": "3.11.4"
  }
 },
 "nbformat": 4,
 "nbformat_minor": 5
}
